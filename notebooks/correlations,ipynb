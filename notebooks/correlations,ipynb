import os
import pandas as pd
import seaborn as sns
import matplotlib.pyplot as plt

# Daten laden
df = pd.read_csv("../data/cleaned-data/ckw_opendata_smartmeter_dataset_b_all.csv")

# Falls nötig, Timestamp in datetime umwandeln
df["timestamp"] = pd.to_datetime(df["timestamp"])
df["hour"] = df["timestamp"].dt.hour
df["weekday"] = df["timestamp"].dt.weekday

# Korrelationen berechnen
correlation_matrix = df[["hour", "weekday", "value_kwh"]].corr()

# Korrelationen visualisieren
import plotly.express as px
import plotly.graph_objects as go

# Heatmap mit Plotly
fig = go.Figure(data=go.Heatmap(
    z=correlation_matrix.values,
    x=correlation_matrix.columns,
    y=correlation_matrix.index,
    colorscale="RdBu",
    zmin=-1, zmax=1,
    text=correlation_matrix.values.round(2),
    texttemplate="%{text}",
    hoverinfo="text"
))
fig.update_layout(title="Korrelationen zwischen Variablen", width=600, height=500)
fig.show()
